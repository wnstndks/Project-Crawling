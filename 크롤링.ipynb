{
  "nbformat": 4,
  "nbformat_minor": 0,
  "metadata": {
    "colab": {
      "private_outputs": true,
      "provenance": []
    },
    "kernelspec": {
      "name": "python3",
      "display_name": "Python 3"
    },
    "language_info": {
      "name": "python"
    }
  },
  "cells": [
    {
      "cell_type": "code",
      "source": [
        "!pip install selenium\n",
        "!apt-get update\n",
        "!apt install chromium-chromedriver"
      ],
      "metadata": {
        "id": "QOScnjQ8OO77"
      },
      "execution_count": null,
      "outputs": []
    },
    {
      "cell_type": "code",
      "execution_count": null,
      "metadata": {
        "id": "GI6ociXQOGqv"
      },
      "outputs": [],
      "source": [
        "import selenium\n",
        "from selenium import webdriver as wd\n",
        "import time\n",
        "import pandas as pd\n",
        "from bs4 import BeautifulSoup\n",
        "import requests\n",
        "from itertools import repeat\n",
        "import re"
      ]
    },
    {
      "cell_type": "code",
      "source": [
        "headers = {\n",
        "    'User-Agent': 'Mozilla/5.0 (Windows NT 10.0; Win64; x64) AppleWebKit/537.36 (KHTML, like Gecko) Chrome/91.0.4472.124 Safari/537.36',\n",
        "    'Accept-Language': 'ko-KR,ko;q=0.9,en-US;q=0.8,en;q=0.7',\n",
        "    'Referer': 'https://www.musinsa.com/',\n",
        "    'Accept': 'text/html,application/xhtml+xml,application/xml;q=0.9,image/avif,image/webp,image/apng,*/*;q=0.8'\n",
        "}\n",
        "\n",
        "# 세션을 사용하면 쿠키 관리에 도움됨\n",
        "session = requests.Session()\n",
        "\n",
        "url = 'https://www.musinsa.com/brand/musinsastandard?gf=A'\n",
        "response = session.get(url, headers=headers)\n",
        "\n",
        "# 상태 코드 확인\n",
        "print(response.status_code)\n",
        "\n",
        "# 인코딩 명시적 설정\n",
        "response.encoding = 'utf-8'\n",
        "\n",
        "soup = BeautifulSoup(response.text, 'lxml')"
      ],
      "metadata": {
        "id": "66iUBZkBOLxD"
      },
      "execution_count": null,
      "outputs": []
    },
    {
      "cell_type": "code",
      "source": [
        "from selenium import webdriver\n",
        "from selenium.webdriver.chrome.options import Options\n",
        "from selenium.webdriver.common.by import By\n",
        "from selenium.webdriver.support.ui import WebDriverWait\n",
        "from selenium.webdriver.support import expected_conditions as EC\n",
        "from bs4 import BeautifulSoup\n",
        "import time\n",
        "import pandas as pd\n",
        "\n",
        "# Chrome 옵션 설정\n",
        "chrome_options = Options()\n",
        "chrome_options.add_argument('--headless')\n",
        "chrome_options.add_argument('--no-sandbox')\n",
        "chrome_options.add_argument('--disable-dev-shm-usage')\n",
        "\n",
        "# WebDriver 생성\n",
        "driver = webdriver.Chrome(options=chrome_options)\n",
        "\n",
        "# 데이터 저장할 리스트 초기화\n",
        "product_data = []\n",
        "\n",
        "try:\n",
        "    # 페이지 로드\n",
        "    driver.get('https://www.musinsa.com/brand/musinsastandard?gf=A')\n",
        "\n",
        "    # 명시적 대기 - 상품 목록이 로드될 때까지 대기\n",
        "    WebDriverWait(driver, 10).until(\n",
        "        EC.presence_of_all_elements_located((By.CSS_SELECTOR, 'a.sc-fHejqy'))\n",
        "    )\n",
        "\n",
        "    # 충분한 로딩 시간 추가\n",
        "    time.sleep(3)\n",
        "\n",
        "    # 페이지 소스 가져오기\n",
        "    page_source = driver.page_source\n",
        "\n",
        "    # BeautifulSoup으로 파싱\n",
        "    soup = BeautifulSoup(page_source, 'lxml')\n",
        "\n",
        "    # 링크 찾기\n",
        "    links = soup.find_all('a', class_=lambda x: x and 'sc-fHejqy' in x)\n",
        "\n",
        "    # 각 링크에서 정보 추출\n",
        "    for link in links:\n",
        "        try:\n",
        "            # 제품 URL\n",
        "            product_url = link.get('href', '')\n",
        "\n",
        "            # 제품 이미지\n",
        "            img = link.find('img')\n",
        "            # When you find the image tag\n",
        "            if img:\n",
        "                product_title = img.get('alt', '')\n",
        "\n",
        "            # 가격 정보 추출 (데이터 속성 활용)\n",
        "            original_price = link.get('data-original-price', '')\n",
        "            discounted_price = link.get('data-price', '')\n",
        "            discount_rate = link.get('data-discount-rate', '')\n",
        "\n",
        "            # 브랜드 정보\n",
        "            brand = link.get('data-item-brand', '')\n",
        "\n",
        "            # 데이터 저장\n",
        "            product_data.append({\n",
        "                'title': product_title,\n",
        "                'url': product_url,\n",
        "                'original_price': original_price,\n",
        "                'discounted_price': discounted_price,\n",
        "                'discount_rate': discount_rate,\n",
        "                'brand': brand\n",
        "            })\n",
        "\n",
        "        except Exception as e:\n",
        "            print(f\"Error processing link: {e}\")\n",
        "\n",
        "    # 데이터프레임으로 변환\n",
        "    df = pd.DataFrame(product_data)\n",
        "\n",
        "    # CSV로 저장\n",
        "    df.to_csv('musinsastandard_products.csv', index=False, encoding='utf-8-sig')\n",
        "\n",
        "    # 결과 출력\n",
        "    print(f\"Total products collected: {len(product_data)}\")\n",
        "    print(\"Data saved to musinsastandard_products.csv\")\n",
        "\n",
        "except Exception as e:\n",
        "    print(f\"An error occurred: {e}\")\n",
        "\n",
        "finally:\n",
        "    driver.quit()"
      ],
      "metadata": {
        "id": "LSKXrfaiVGFi"
      },
      "execution_count": null,
      "outputs": []
    },
    {
      "cell_type": "code",
      "source": [
        "df = pd.read_csv('/content/musinsastandard_products.csv')"
      ],
      "metadata": {
        "id": "Dsf9jgevV4ts"
      },
      "execution_count": null,
      "outputs": []
    },
    {
      "cell_type": "code",
      "source": [
        "df"
      ],
      "metadata": {
        "id": "_X4w-gpbWEk8"
      },
      "execution_count": null,
      "outputs": []
    },
    {
      "cell_type": "code",
      "source": [],
      "metadata": {
        "id": "D2itrH2Qd1xi"
      },
      "execution_count": null,
      "outputs": []
    }
  ]
}